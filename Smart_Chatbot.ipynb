{
  "nbformat": 4,
  "nbformat_minor": 0,
  "metadata": {
    "colab": {
      "provenance": []
    },
    "kernelspec": {
      "name": "python3",
      "display_name": "Python 3"
    },
    "language_info": {
      "name": "python"
    }
  },
  "cells": [
    {
      "cell_type": "code",
      "execution_count": 2,
      "metadata": {
        "id": "u0hs2thuvoup"
      },
      "outputs": [],
      "source": [
        "#description: This is a 'smart' chatbot program"
      ]
    },
    {
      "cell_type": "code",
      "source": [
        "!pip install nltk"
      ],
      "metadata": {
        "id": "os5l_q4ev5jr",
        "colab": {
          "base_uri": "https://localhost:8080/"
        },
        "outputId": "51ccc9f0-9a14-442f-993e-8fb1ed9695a8"
      },
      "execution_count": 3,
      "outputs": [
        {
          "output_type": "stream",
          "name": "stdout",
          "text": [
            "Requirement already satisfied: nltk in /usr/local/lib/python3.10/dist-packages (3.8.1)\n",
            "Requirement already satisfied: click in /usr/local/lib/python3.10/dist-packages (from nltk) (8.1.7)\n",
            "Requirement already satisfied: joblib in /usr/local/lib/python3.10/dist-packages (from nltk) (1.4.2)\n",
            "Requirement already satisfied: regex>=2021.8.3 in /usr/local/lib/python3.10/dist-packages (from nltk) (2024.9.11)\n",
            "Requirement already satisfied: tqdm in /usr/local/lib/python3.10/dist-packages (from nltk) (4.66.5)\n"
          ]
        }
      ]
    },
    {
      "cell_type": "code",
      "source": [
        "!pip install newspaper3k"
      ],
      "metadata": {
        "id": "d0ePBvLNwA6T",
        "colab": {
          "base_uri": "https://localhost:8080/"
        },
        "outputId": "f34dd237-8f3c-49e6-a6b2-4ffdbba7c3ec"
      },
      "execution_count": 4,
      "outputs": [
        {
          "output_type": "stream",
          "name": "stdout",
          "text": [
            "Collecting newspaper3k\n",
            "  Downloading newspaper3k-0.2.8-py3-none-any.whl.metadata (11 kB)\n",
            "Requirement already satisfied: beautifulsoup4>=4.4.1 in /usr/local/lib/python3.10/dist-packages (from newspaper3k) (4.12.3)\n",
            "Requirement already satisfied: Pillow>=3.3.0 in /usr/local/lib/python3.10/dist-packages (from newspaper3k) (10.4.0)\n",
            "Requirement already satisfied: PyYAML>=3.11 in /usr/local/lib/python3.10/dist-packages (from newspaper3k) (6.0.2)\n",
            "Collecting cssselect>=0.9.2 (from newspaper3k)\n",
            "  Downloading cssselect-1.2.0-py2.py3-none-any.whl.metadata (2.2 kB)\n",
            "Requirement already satisfied: lxml>=3.6.0 in /usr/local/lib/python3.10/dist-packages (from newspaper3k) (4.9.4)\n",
            "Requirement already satisfied: nltk>=3.2.1 in /usr/local/lib/python3.10/dist-packages (from newspaper3k) (3.8.1)\n",
            "Requirement already satisfied: requests>=2.10.0 in /usr/local/lib/python3.10/dist-packages (from newspaper3k) (2.32.3)\n",
            "Collecting feedparser>=5.2.1 (from newspaper3k)\n",
            "  Downloading feedparser-6.0.11-py3-none-any.whl.metadata (2.4 kB)\n",
            "Collecting tldextract>=2.0.1 (from newspaper3k)\n",
            "  Downloading tldextract-5.1.2-py3-none-any.whl.metadata (11 kB)\n",
            "Collecting feedfinder2>=0.0.4 (from newspaper3k)\n",
            "  Downloading feedfinder2-0.0.4.tar.gz (3.3 kB)\n",
            "  Preparing metadata (setup.py) ... \u001b[?25l\u001b[?25hdone\n",
            "Collecting jieba3k>=0.35.1 (from newspaper3k)\n",
            "  Downloading jieba3k-0.35.1.zip (7.4 MB)\n",
            "\u001b[2K     \u001b[90m━━━━━━━━━━━━━━━━━━━━━━━━━━━━━━━━━━━━━━━━\u001b[0m \u001b[32m7.4/7.4 MB\u001b[0m \u001b[31m19.1 MB/s\u001b[0m eta \u001b[36m0:00:00\u001b[0m\n",
            "\u001b[?25h  Preparing metadata (setup.py) ... \u001b[?25l\u001b[?25hdone\n",
            "Requirement already satisfied: python-dateutil>=2.5.3 in /usr/local/lib/python3.10/dist-packages (from newspaper3k) (2.8.2)\n",
            "Collecting tinysegmenter==0.3 (from newspaper3k)\n",
            "  Downloading tinysegmenter-0.3.tar.gz (16 kB)\n",
            "  Preparing metadata (setup.py) ... \u001b[?25l\u001b[?25hdone\n",
            "Requirement already satisfied: soupsieve>1.2 in /usr/local/lib/python3.10/dist-packages (from beautifulsoup4>=4.4.1->newspaper3k) (2.6)\n",
            "Requirement already satisfied: six in /usr/local/lib/python3.10/dist-packages (from feedfinder2>=0.0.4->newspaper3k) (1.16.0)\n",
            "Collecting sgmllib3k (from feedparser>=5.2.1->newspaper3k)\n",
            "  Downloading sgmllib3k-1.0.0.tar.gz (5.8 kB)\n",
            "  Preparing metadata (setup.py) ... \u001b[?25l\u001b[?25hdone\n",
            "Requirement already satisfied: click in /usr/local/lib/python3.10/dist-packages (from nltk>=3.2.1->newspaper3k) (8.1.7)\n",
            "Requirement already satisfied: joblib in /usr/local/lib/python3.10/dist-packages (from nltk>=3.2.1->newspaper3k) (1.4.2)\n",
            "Requirement already satisfied: regex>=2021.8.3 in /usr/local/lib/python3.10/dist-packages (from nltk>=3.2.1->newspaper3k) (2024.9.11)\n",
            "Requirement already satisfied: tqdm in /usr/local/lib/python3.10/dist-packages (from nltk>=3.2.1->newspaper3k) (4.66.5)\n",
            "Requirement already satisfied: charset-normalizer<4,>=2 in /usr/local/lib/python3.10/dist-packages (from requests>=2.10.0->newspaper3k) (3.3.2)\n",
            "Requirement already satisfied: idna<4,>=2.5 in /usr/local/lib/python3.10/dist-packages (from requests>=2.10.0->newspaper3k) (3.10)\n",
            "Requirement already satisfied: urllib3<3,>=1.21.1 in /usr/local/lib/python3.10/dist-packages (from requests>=2.10.0->newspaper3k) (2.2.3)\n",
            "Requirement already satisfied: certifi>=2017.4.17 in /usr/local/lib/python3.10/dist-packages (from requests>=2.10.0->newspaper3k) (2024.8.30)\n",
            "Collecting requests-file>=1.4 (from tldextract>=2.0.1->newspaper3k)\n",
            "  Downloading requests_file-2.1.0-py2.py3-none-any.whl.metadata (1.7 kB)\n",
            "Requirement already satisfied: filelock>=3.0.8 in /usr/local/lib/python3.10/dist-packages (from tldextract>=2.0.1->newspaper3k) (3.16.1)\n",
            "Downloading newspaper3k-0.2.8-py3-none-any.whl (211 kB)\n",
            "\u001b[2K   \u001b[90m━━━━━━━━━━━━━━━━━━━━━━━━━━━━━━━━━━━━━━━━\u001b[0m \u001b[32m211.1/211.1 kB\u001b[0m \u001b[31m8.7 MB/s\u001b[0m eta \u001b[36m0:00:00\u001b[0m\n",
            "\u001b[?25hDownloading cssselect-1.2.0-py2.py3-none-any.whl (18 kB)\n",
            "Downloading feedparser-6.0.11-py3-none-any.whl (81 kB)\n",
            "\u001b[2K   \u001b[90m━━━━━━━━━━━━━━━━━━━━━━━━━━━━━━━━━━━━━━━━\u001b[0m \u001b[32m81.3/81.3 kB\u001b[0m \u001b[31m1.7 MB/s\u001b[0m eta \u001b[36m0:00:00\u001b[0m\n",
            "\u001b[?25hDownloading tldextract-5.1.2-py3-none-any.whl (97 kB)\n",
            "\u001b[2K   \u001b[90m━━━━━━━━━━━━━━━━━━━━━━━━━━━━━━━━━━━━━━━━\u001b[0m \u001b[32m97.6/97.6 kB\u001b[0m \u001b[31m5.4 MB/s\u001b[0m eta \u001b[36m0:00:00\u001b[0m\n",
            "\u001b[?25hDownloading requests_file-2.1.0-py2.py3-none-any.whl (4.2 kB)\n",
            "Building wheels for collected packages: tinysegmenter, feedfinder2, jieba3k, sgmllib3k\n",
            "  Building wheel for tinysegmenter (setup.py) ... \u001b[?25l\u001b[?25hdone\n",
            "  Created wheel for tinysegmenter: filename=tinysegmenter-0.3-py3-none-any.whl size=13540 sha256=64c4220eac01d718e09548a20e86c2351c395ef146d9a984f542e52bd9c0cb9c\n",
            "  Stored in directory: /root/.cache/pip/wheels/c8/d6/6c/384f58df48c00b9a31d638005143b5b3ac62c3d25fb1447f23\n",
            "  Building wheel for feedfinder2 (setup.py) ... \u001b[?25l\u001b[?25hdone\n",
            "  Created wheel for feedfinder2: filename=feedfinder2-0.0.4-py3-none-any.whl size=3342 sha256=c9a41dc654a229be843c0e715ff4f2bdbcb9aee7dede54d188c568d2f199cbbb\n",
            "  Stored in directory: /root/.cache/pip/wheels/97/02/e7/a1ff1760e12bdbaab0ac824fae5c1bc933e41c4ccd6a8f8edb\n",
            "  Building wheel for jieba3k (setup.py) ... \u001b[?25l\u001b[?25hdone\n",
            "  Created wheel for jieba3k: filename=jieba3k-0.35.1-py3-none-any.whl size=7398380 sha256=794f64ba27ce68a39668b7e4554678d29bf8c6f37cbbb931c8839cc597042ad2\n",
            "  Stored in directory: /root/.cache/pip/wheels/7a/c4/0c/12a9a314ecac499456c4c3b2fcc2f635a3b45a39dfbd240299\n",
            "  Building wheel for sgmllib3k (setup.py) ... \u001b[?25l\u001b[?25hdone\n",
            "  Created wheel for sgmllib3k: filename=sgmllib3k-1.0.0-py3-none-any.whl size=6047 sha256=92b7652b4fcd27be49e012deab2b2e9e50b2ecdfabe78fd83f932183d99d1ec3\n",
            "  Stored in directory: /root/.cache/pip/wheels/f0/69/93/a47e9d621be168e9e33c7ce60524393c0b92ae83cf6c6e89c5\n",
            "Successfully built tinysegmenter feedfinder2 jieba3k sgmllib3k\n",
            "Installing collected packages: tinysegmenter, sgmllib3k, jieba3k, feedparser, cssselect, requests-file, feedfinder2, tldextract, newspaper3k\n",
            "Successfully installed cssselect-1.2.0 feedfinder2-0.0.4 feedparser-6.0.11 jieba3k-0.35.1 newspaper3k-0.2.8 requests-file-2.1.0 sgmllib3k-1.0.0 tinysegmenter-0.3 tldextract-5.1.2\n"
          ]
        }
      ]
    },
    {
      "cell_type": "code",
      "source": [
        "#Import the libraries\n",
        "from newspaper import Article\n",
        "import random\n",
        "import string\n",
        "import nltk\n",
        "from sklearn.feature_extraction.text import CountVectorizer\n",
        "from sklearn.metrics.pairwise import cosine_similarity\n",
        "import numpy as np\n",
        "import warnings\n",
        "warnings.filterwarnings('ignore')"
      ],
      "metadata": {
        "id": "RMO5C32TwJuq"
      },
      "execution_count": 5,
      "outputs": []
    },
    {
      "cell_type": "code",
      "source": [
        "#Downlod the punkt package\n",
        "nltk.download('punkt',quiet=True)"
      ],
      "metadata": {
        "id": "jxxeo7CXSGjQ",
        "colab": {
          "base_uri": "https://localhost:8080/"
        },
        "outputId": "55d22131-c876-4a8d-edc3-c870a7ad2da7"
      },
      "execution_count": 6,
      "outputs": [
        {
          "output_type": "execute_result",
          "data": {
            "text/plain": [
              "True"
            ]
          },
          "metadata": {},
          "execution_count": 6
        }
      ]
    },
    {
      "cell_type": "code",
      "source": [
        "#Get the article\n",
        "article = Article('https://www.kidney.org/kidney-topics/chronic-kidney-disease-ckd')\n",
        "article.download()\n",
        "article.parse()\n",
        "article.nlp()\n",
        "corpus = article.text"
      ],
      "metadata": {
        "id": "sZfuCob9SVUY"
      },
      "execution_count": 8,
      "outputs": []
    },
    {
      "cell_type": "code",
      "source": [
        "#Print the article\n",
        "print(corpus)"
      ],
      "metadata": {
        "id": "7EjXhoJRS-el",
        "colab": {
          "base_uri": "https://localhost:8080/"
        },
        "outputId": "9f196806-36dc-4e9e-faa6-14a1d9642e97"
      },
      "execution_count": 9,
      "outputs": [
        {
          "output_type": "stream",
          "name": "stdout",
          "text": [
            "Overview\n",
            "\n",
            "Managing CKD is focused on four very important goals:\n",
            "\n",
            "Managing the disease(s) or condition(s) that are most likely causing the CKD (for example, your diabetes, high blood pressure, or IgA nephropathy)\n",
            "\n",
            "Taking steps to slow down the CKD disease process directly (also known as “slowing CKD progression”)\n",
            "\n",
            "Lowering your risk of cardiovascular disease (having a heart attack or stroke)\n",
            "\n",
            "Treating any complications that you may have because of your CKD\n",
            "\n",
            "Specific treatment recommendations depend on your stage of CKD and what other health conditions you have (including any CKD complications). Below are recommendations that apply to most people with CKD. No two people are the same, so talk with your healthcare professional about recommendations tailored to you.\n",
            "\n",
            "Medications\n",
            "\n",
            "Your healthcare professional may prescribe one or more medicines to help slow down or stop your CKD from getting worse. These medicines can include an ACE inhibitor/ARB, an SGLT2 inhibitor and/or an nsMRA.\n",
            "\n",
            "Your healthcare professional may also prescribe a statin (cholesterol medicine). Guidelines recommend a statin for people with CKD who also have diabetes, a history of heart disease, or are age 50 or older. Even if you do not have high cholesterol, a statin can help lower your risk of having a heart attack or stroke.\n",
            "\n",
            "You may also need to take additional medications or supplements to manage any CKD complications you might have (if applicable).\n",
            "\n",
            "Nutrition\n",
            "\n",
            "It is important to limit your sodium (salt) intake to less than 2300 mg per day (about 1 teaspoon of salt from all the food and drinks you consume each day). This recommendation is very important if you also have high blood pressure. Your healthcare professional may advise an even lower target depending on your other health conditions. This means a lot more than not using a saltshaker, but also limiting foods with high levels of sodium listed on their nutrition facts label. Some foods that don’t taste salty can have a surprising amount of sodium when you check their nutrition facts label.\n",
            "\n",
            "Based on the results of your blood tests, your healthcare professional or kidney dietitian may also advise you to change how much potassium, phosphorus, and/or calcium you might be getting through your diet.\n",
            "\n",
            "Meeting with a dietitian can be especially helpful if you also have other health conditions like high blood pressure, diabetes, or heart failure where it is even more important to integrate a healthy diet into your lifestyle to help prevent complications. It can feel overwhelming to keep track of so many changes, and a dietitian can help you identify what works best for you.\n",
            "\n",
            "Additional information about eating healthy with kidney disease can be found on the Nutrition and Early Kidney Disease page.\n",
            "\n",
            "Lifestyle recommendations\n",
            "\n",
            "Now is a great time to make healthier lifestyle choices:\n",
            "\n",
            "If you smoke and/or use tobacco products, stop. Smoking can speed up the kidney disease process and increase your risk of getting kidney failure. It also increases your risk for other serious health problems, including high blood pressure, heart disease, cancers, and stroke.\n",
            "\n",
            "Exercise regularly. Remember, it’s okay to start slowly – taking short walks is a great way to begin.\n",
            "\n",
            "Sleeping well is important, too. Try to get enough sleep so you are well-rested.\n",
            "\n",
            "If you are overweight, losing weight through a balanced diet and physical activity can help improve your health in many ways.\n",
            "\n",
            "Find ways to reduce and manage stress in your life.\n",
            "\n",
            "Other ways to lower your risk\n",
            "\n",
            "Taking steps to manage other health conditions you may also have can also help your CKD. This includes high blood pressure, diabetes, and high cholesterol.\n",
            "\n",
            "People with CKD should also avoid certain pain medicines known as non-steroid anti-inflammatory drugs (NSAIDs). These can be harmful to your kidneys, especially at higher doses and/or with long-term use. Some examples include:\n",
            "\n",
            "ibuprofen (Motrin, Advil)\n",
            "\n",
            "indomethacin (Indocin)\n",
            "\n",
            "naproxen (Aleve, Naprosyn)\n",
            "\n",
            "diclofenac tablets or capsules (Cataflam, Zipsor)\n",
            "\n",
            "celecoxib (Celebrex)\n",
            "\n",
            "meloxicam (Mobic)\n",
            "\n",
            "aspirin (only if more than 325 mg per day)\n",
            "\n",
            "Many of these NSAID medicines are available over-the-counter (OTC) and may be sold under a different name or be mixed with other ingredients (like cough & cold medicines). Sometimes it may not be possible to avoid using these products depending on your other health conditions. Always ask your healthcare professional before using any products with these drug names or if the word “NSAID” is printed on the product’s label. In general, acetaminophen, also called Tylenol, is safe for your kidneys at recommended doses - but check with your healthcare professional first to determine the cause of your pain and the best way to treat it.\n",
            "\n",
            "If your healthcare professional says you have metabolic acidosis, increasing the amount of fruits and vegetables you eat everyday can help lower the level of acid in your blood. This can also help slow down your CKD progression (worsening).\n"
          ]
        }
      ]
    },
    {
      "cell_type": "code",
      "source": [
        "#Tokenization\n",
        "text=corpus\n",
        "sentence_list= nltk.sent_tokenize(text)#a list of sentences"
      ],
      "metadata": {
        "id": "k-arH9l7TCfj"
      },
      "execution_count": 10,
      "outputs": []
    },
    {
      "cell_type": "code",
      "source": [
        "#print the list of sentences\n",
        "print(sentence_list)"
      ],
      "metadata": {
        "id": "UXyj112ZTcKf",
        "colab": {
          "base_uri": "https://localhost:8080/"
        },
        "outputId": "f04e5dd4-1fc7-411f-a0cd-33a07681305a"
      },
      "execution_count": 11,
      "outputs": [
        {
          "output_type": "stream",
          "name": "stdout",
          "text": [
            "['Overview\\n\\nManaging CKD is focused on four very important goals:\\n\\nManaging the disease(s) or condition(s) that are most likely causing the CKD (for example, your diabetes, high blood pressure, or IgA nephropathy)\\n\\nTaking steps to slow down the CKD disease process directly (also known as “slowing CKD progression”)\\n\\nLowering your risk of cardiovascular disease (having a heart attack or stroke)\\n\\nTreating any complications that you may have because of your CKD\\n\\nSpecific treatment recommendations depend on your stage of CKD and what other health conditions you have (including any CKD complications).', 'Below are recommendations that apply to most people with CKD.', 'No two people are the same, so talk with your healthcare professional about recommendations tailored to you.', 'Medications\\n\\nYour healthcare professional may prescribe one or more medicines to help slow down or stop your CKD from getting worse.', 'These medicines can include an ACE inhibitor/ARB, an SGLT2 inhibitor and/or an nsMRA.', 'Your healthcare professional may also prescribe a statin (cholesterol medicine).', 'Guidelines recommend a statin for people with CKD who also have diabetes, a history of heart disease, or are age 50 or older.', 'Even if you do not have high cholesterol, a statin can help lower your risk of having a heart attack or stroke.', 'You may also need to take additional medications or supplements to manage any CKD complications you might have (if applicable).', 'Nutrition\\n\\nIt is important to limit your sodium (salt) intake to less than 2300 mg per day (about 1 teaspoon of salt from all the food and drinks you consume each day).', 'This recommendation is very important if you also have high blood pressure.', 'Your healthcare professional may advise an even lower target depending on your other health conditions.', 'This means a lot more than not using a saltshaker, but also limiting foods with high levels of sodium listed on their nutrition facts label.', 'Some foods that don’t taste salty can have a surprising amount of sodium when you check their nutrition facts label.', 'Based on the results of your blood tests, your healthcare professional or kidney dietitian may also advise you to change how much potassium, phosphorus, and/or calcium you might be getting through your diet.', 'Meeting with a dietitian can be especially helpful if you also have other health conditions like high blood pressure, diabetes, or heart failure where it is even more important to integrate a healthy diet into your lifestyle to help prevent complications.', 'It can feel overwhelming to keep track of so many changes, and a dietitian can help you identify what works best for you.', 'Additional information about eating healthy with kidney disease can be found on the Nutrition and Early Kidney Disease page.', 'Lifestyle recommendations\\n\\nNow is a great time to make healthier lifestyle choices:\\n\\nIf you smoke and/or use tobacco products, stop.', 'Smoking can speed up the kidney disease process and increase your risk of getting kidney failure.', 'It also increases your risk for other serious health problems, including high blood pressure, heart disease, cancers, and stroke.', 'Exercise regularly.', 'Remember, it’s okay to start slowly – taking short walks is a great way to begin.', 'Sleeping well is important, too.', 'Try to get enough sleep so you are well-rested.', 'If you are overweight, losing weight through a balanced diet and physical activity can help improve your health in many ways.', 'Find ways to reduce and manage stress in your life.', 'Other ways to lower your risk\\n\\nTaking steps to manage other health conditions you may also have can also help your CKD.', 'This includes high blood pressure, diabetes, and high cholesterol.', 'People with CKD should also avoid certain pain medicines known as non-steroid anti-inflammatory drugs (NSAIDs).', 'These can be harmful to your kidneys, especially at higher doses and/or with long-term use.', 'Some examples include:\\n\\nibuprofen (Motrin, Advil)\\n\\nindomethacin (Indocin)\\n\\nnaproxen (Aleve, Naprosyn)\\n\\ndiclofenac tablets or capsules (Cataflam, Zipsor)\\n\\ncelecoxib (Celebrex)\\n\\nmeloxicam (Mobic)\\n\\naspirin (only if more than 325 mg per day)\\n\\nMany of these NSAID medicines are available over-the-counter (OTC) and may be sold under a different name or be mixed with other ingredients (like cough & cold medicines).', 'Sometimes it may not be possible to avoid using these products depending on your other health conditions.', 'Always ask your healthcare professional before using any products with these drug names or if the word “NSAID” is printed on the product’s label.', 'In general, acetaminophen, also called Tylenol, is safe for your kidneys at recommended doses - but check with your healthcare professional first to determine the cause of your pain and the best way to treat it.', 'If your healthcare professional says you have metabolic acidosis, increasing the amount of fruits and vegetables you eat everyday can help lower the level of acid in your blood.', 'This can also help slow down your CKD progression (worsening).']\n"
          ]
        }
      ]
    },
    {
      "cell_type": "code",
      "source": [
        "#A function to return a random greeting response to a users greeting\n",
        "def greeting_response(text):\n",
        "  text=text.lower()\n",
        "\n",
        "  bot_greetings = ['howdy','hi','hey','hello','hola']\n",
        "  user_greetings = ['hi','hey','hello','hola','greetings','wassup','whats up']\n",
        "\n",
        "  for word in text.split():\n",
        "    if word in user_greetings:\n",
        "      return random.choice(bot_greetings)\n"
      ],
      "metadata": {
        "id": "tcKnC76oTf7G"
      },
      "execution_count": 12,
      "outputs": []
    },
    {
      "cell_type": "code",
      "source": [
        "def index_sort(list_var):\n",
        "  length = len(list_var)\n",
        "  list_index = list(range(0,length))\n",
        "\n",
        "  x = list_var\n",
        "  for i in range(length):\n",
        "    for j in range(length):\n",
        "      if x[list_index[i]] > x[list_index[j]]:\n",
        "        #swap\n",
        "        temp = list_index[i]\n",
        "        list_index[i] = list_index[j]\n",
        "        list_index[j] = temp\n",
        "  return list_index"
      ],
      "metadata": {
        "id": "qxput6e6Ufjl"
      },
      "execution_count": 13,
      "outputs": []
    },
    {
      "cell_type": "code",
      "source": [
        "def bot_response(user_input):\n",
        "  user_input = user_input.lower()\n",
        "  sentence_list.append(user_input)\n",
        "  bot_response = '' # Initialize bot_response as an empty string\n",
        "  cm = CountVectorizer().fit_transform(sentence_list)\n",
        "  similarity_scores = cosine_similarity(cm[-1],cm)\n",
        "  similarity_scores_list = similarity_scores.flatten()\n",
        "  index = index_sort(similarity_scores_list)\n",
        "  index = index[1:]\n",
        "  response_flag = 0\n",
        "\n",
        "  j = 0\n",
        "  for i in range(len(index)):\n",
        "    if similarity_scores_list[index[i]] > 0.0:\n",
        "      bot_response = bot_response+' '+sentence_list[index[i]]\n",
        "      response_flag = 1\n",
        "      j = j+1\n",
        "    if j > 2:\n",
        "      break\n",
        "\n",
        "  if response_flag == 0:\n",
        "    bot_response = bot_response+' '+\"I apologize, I don't understand.\" #concatenate string here to avoid NoneType\n",
        "  #Ensure bot_response is always a string before returning\n",
        "  # If response_flag is still 0, it will return \"I apologize, I don't understand.\"\n",
        "  sentence_list.remove(user_input)\n",
        "\n",
        "  return bot_response # Explicitly return bot_response, ensuring it is a string"
      ],
      "metadata": {
        "id": "nyFd4QTOUFuB"
      },
      "execution_count": 14,
      "outputs": []
    },
    {
      "cell_type": "code",
      "source": [
        "#Start the chat\n",
        "print('Doc bot: I am Doctor Bot or Doc Bot for short. I will answer your queries about Chronic Kidney Disease. If you want to exit, type bye.')\n",
        "\n",
        "exit_list = ['exit', 'see you later', 'bye', 'quit', 'break']\n",
        "while(True):\n",
        "    user_input = input()\n",
        "    if user_input.lower() in exit_list:\n",
        "        print('Doc Bot: Chat with you later')\n",
        "        break\n",
        "    else:\n",
        "        if greeting_response(user_input) != None:\n",
        "            print('Doc Bot: ' + greeting_response(user_input))\n",
        "        else:\n",
        "            print('Doc Bot: ' + bot_response(user_input))"
      ],
      "metadata": {
        "id": "xSkTZBbBV7Xi"
      },
      "execution_count": null,
      "outputs": []
    }
  ]
}